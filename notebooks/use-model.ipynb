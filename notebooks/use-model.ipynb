{
 "cells": [
  {
   "cell_type": "markdown",
   "id": "ff3b9a90-a424-49b6-b323-8f143238a512",
   "metadata": {},
   "source": [
    "## Using the model\n",
    "- Loading the model\n",
    "- Evaluating the model\n",
    "- Getting predictions"
   ]
  },
  {
   "cell_type": "code",
   "execution_count": 1,
   "id": "55462c9f-1a0e-4eba-b1eb-eaec93c991c2",
   "metadata": {
    "execution": {
     "iopub.execute_input": "2024-12-25T16:55:10.646024Z",
     "iopub.status.busy": "2024-12-25T16:55:10.645708Z",
     "iopub.status.idle": "2024-12-25T16:55:15.800330Z",
     "shell.execute_reply": "2024-12-25T16:55:15.799454Z",
     "shell.execute_reply.started": "2024-12-25T16:55:10.646001Z"
    }
   },
   "outputs": [
    {
     "name": "stderr",
     "output_type": "stream",
     "text": [
      "2024-12-25 16:55:11.065690: I tensorflow/core/util/port.cc:153] oneDNN custom operations are on. You may see slightly different numerical results due to floating-point round-off errors from different computation orders. To turn them off, set the environment variable `TF_ENABLE_ONEDNN_OPTS=0`.\n",
      "2024-12-25 16:55:11.083205: E external/local_xla/xla/stream_executor/cuda/cuda_fft.cc:477] Unable to register cuFFT factory: Attempting to register factory for plugin cuFFT when one has already been registered\n",
      "WARNING: All log messages before absl::InitializeLog() is called are written to STDERR\n",
      "E0000 00:00:1735145711.103370   15614 cuda_dnn.cc:8310] Unable to register cuDNN factory: Attempting to register factory for plugin cuDNN when one has already been registered\n",
      "E0000 00:00:1735145711.109543   15614 cuda_blas.cc:1418] Unable to register cuBLAS factory: Attempting to register factory for plugin cuBLAS when one has already been registered\n",
      "2024-12-25 16:55:11.129682: I tensorflow/core/platform/cpu_feature_guard.cc:210] This TensorFlow binary is optimized to use available CPU instructions in performance-critical operations.\n",
      "To enable the following instructions: AVX2 AVX512F AVX512_VNNI FMA, in other operations, rebuild TensorFlow with the appropriate compiler flags.\n"
     ]
    }
   ],
   "source": [
    "import numpy as np\n",
    "\n",
    "import tensorflow as tf\n",
    "from tensorflow import keras\n",
    "\n",
    "from tensorflow.keras.preprocessing.image import ImageDataGenerator\n",
    "from tensorflow.keras.preprocessing.image import load_img\n",
    "\n",
    "from tensorflow.keras.applications.xception import preprocess_input"
   ]
  },
  {
   "cell_type": "code",
   "execution_count": 5,
   "id": "30c7ea76-86db-41a9-994b-8cceead575a6",
   "metadata": {
    "execution": {
     "iopub.execute_input": "2024-12-25T16:56:09.678358Z",
     "iopub.status.busy": "2024-12-25T16:56:09.677974Z",
     "iopub.status.idle": "2024-12-25T16:56:09.771702Z",
     "shell.execute_reply": "2024-12-25T16:56:09.771050Z",
     "shell.execute_reply.started": "2024-12-25T16:56:09.678327Z"
    }
   },
   "outputs": [
    {
     "name": "stdout",
     "output_type": "stream",
     "text": [
      "Found 3006 images belonging to 6 classes.\n"
     ]
    }
   ],
   "source": [
    "test_gen = ImageDataGenerator(preprocessing_function=preprocess_input)\n",
    "\n",
    "test_ds = test_gen.flow_from_directory(\n",
    "    '../data/seg_test/seg_test',\n",
    "    target_size=(299, 299),\n",
    "    batch_size=32,\n",
    "    shuffle=False\n",
    ")"
   ]
  },
  {
   "cell_type": "code",
   "execution_count": 6,
   "id": "2a72b942-c35f-44f6-9861-43cdf257c76e",
   "metadata": {
    "execution": {
     "iopub.execute_input": "2024-12-25T16:56:11.445904Z",
     "iopub.status.busy": "2024-12-25T16:56:11.445537Z",
     "iopub.status.idle": "2024-12-25T16:56:12.472579Z",
     "shell.execute_reply": "2024-12-25T16:56:12.471968Z",
     "shell.execute_reply.started": "2024-12-25T16:56:11.445882Z"
    }
   },
   "outputs": [],
   "source": [
    "model = keras.models.load_model('xception_v4_1_04_0.923.keras')"
   ]
  },
  {
   "cell_type": "code",
   "execution_count": null,
   "id": "5679ca66-9cd7-446b-943e-f136031a6f44",
   "metadata": {
    "scrolled": true
   },
   "outputs": [],
   "source": [
    "model.evaluate(test_ds)"
   ]
  },
  {
   "cell_type": "code",
   "execution_count": null,
   "id": "2ae063d5-0e74-45c4-9479-31b73dbd9597",
   "metadata": {},
   "outputs": [],
   "source": [
    "path = '../data/seg_pred/seg_pred/10054.jpg'"
   ]
  },
  {
   "cell_type": "code",
   "execution_count": null,
   "id": "fee698ce-147a-45df-809b-4681b54207c7",
   "metadata": {},
   "outputs": [],
   "source": [
    "img = load_img(path, target_size=(299, 299))"
   ]
  },
  {
   "cell_type": "code",
   "execution_count": null,
   "id": "64369744-c423-47a9-9c79-42197b1c6538",
   "metadata": {},
   "outputs": [],
   "source": [
    "img"
   ]
  },
  {
   "cell_type": "code",
   "execution_count": null,
   "id": "d2a7e929-c95f-4ce8-bf68-ca6276c9a6ba",
   "metadata": {},
   "outputs": [],
   "source": [
    "x = np.array(img)\n",
    "X = np.array([x])\n",
    "X.shape"
   ]
  },
  {
   "cell_type": "code",
   "execution_count": null,
   "id": "2c1190bb-bdcd-445d-ad93-1856a530ceb9",
   "metadata": {},
   "outputs": [],
   "source": [
    "X = preprocess_input(X)"
   ]
  },
  {
   "cell_type": "code",
   "execution_count": null,
   "id": "9ceb7b74-6ef4-47d2-8e24-e9b752c0182d",
   "metadata": {},
   "outputs": [],
   "source": [
    "pred = model.predict(X)"
   ]
  },
  {
   "cell_type": "code",
   "execution_count": null,
   "id": "ecd0c33d-00ab-49d0-8adb-a308656cb148",
   "metadata": {},
   "outputs": [],
   "source": [
    "classes = [\n",
    "    'buildings',\n",
    "    'forest',\n",
    "    'glacier',\n",
    "    'mountain',\n",
    "    'sea',\n",
    "    'street'\n",
    "]"
   ]
  },
  {
   "cell_type": "code",
   "execution_count": null,
   "id": "09c001a3-03f3-43d9-b75b-85878472215c",
   "metadata": {},
   "outputs": [],
   "source": [
    "dict(zip(classes, pred[0]))"
   ]
  },
  {
   "cell_type": "code",
   "execution_count": null,
   "id": "7624415d-19a1-4b15-8eeb-630c7b580ac0",
   "metadata": {},
   "outputs": [],
   "source": []
  },
  {
   "cell_type": "code",
   "execution_count": null,
   "id": "7f2c5307-1ae3-46d1-b0c7-65352c32e48d",
   "metadata": {},
   "outputs": [],
   "source": [
    "path = '../data/seg_pred/seg_pred/11983.jpg'"
   ]
  },
  {
   "cell_type": "code",
   "execution_count": null,
   "id": "eba0d32d-a3b2-4978-b758-a2d523350101",
   "metadata": {},
   "outputs": [],
   "source": [
    "img = load_img(path, target_size=(299, 299))"
   ]
  },
  {
   "cell_type": "code",
   "execution_count": null,
   "id": "f17d71c9-0b37-4b5e-b7f0-95978ee1072f",
   "metadata": {},
   "outputs": [],
   "source": [
    "img"
   ]
  },
  {
   "cell_type": "code",
   "execution_count": null,
   "id": "ba3389bc-26b0-4ffe-a0ec-6988de1de6b7",
   "metadata": {},
   "outputs": [],
   "source": [
    "x = np.array(img)\n",
    "X = np.array([x])\n",
    "\n",
    "X = preprocess_input(X)\n",
    "pred = model.predict(X)\n",
    "\n",
    "dict(zip(classes, pred[0]))"
   ]
  },
  {
   "cell_type": "code",
   "execution_count": null,
   "id": "ddfcc345-5b0f-4baf-b288-6626ca3641f1",
   "metadata": {},
   "outputs": [],
   "source": []
  }
 ],
 "metadata": {
  "kernelspec": {
   "display_name": "saturn (Python 3)",
   "language": "python",
   "name": "python3"
  },
  "language_info": {
   "codemirror_mode": {
    "name": "ipython",
    "version": 3
   },
   "file_extension": ".py",
   "mimetype": "text/x-python",
   "name": "python",
   "nbconvert_exporter": "python",
   "pygments_lexer": "ipython3",
   "version": "3.12.7"
  }
 },
 "nbformat": 4,
 "nbformat_minor": 5
}
